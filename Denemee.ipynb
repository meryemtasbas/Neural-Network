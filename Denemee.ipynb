{
  "nbformat": 4,
  "nbformat_minor": 0,
  "metadata": {
    "colab": {
      "provenance": [],
      "authorship_tag": "ABX9TyO3xM/qVo0PVEXCOoqhELID",
      "include_colab_link": true
    },
    "kernelspec": {
      "name": "python3",
      "display_name": "Python 3"
    },
    "language_info": {
      "name": "python"
    }
  },
  "cells": [
    {
      "cell_type": "markdown",
      "metadata": {
        "id": "view-in-github",
        "colab_type": "text"
      },
      "source": [
        "<a href=\"https://colab.research.google.com/github/meryemtasbas/Neural-Network/blob/main/Denemee.ipynb\" target=\"_parent\"><img src=\"https://colab.research.google.com/assets/colab-badge.svg\" alt=\"Open In Colab\"/></a>"
      ]
    },
    {
      "cell_type": "code",
      "execution_count": null,
      "metadata": {
        "id": "n_xEOwPRDBxx"
      },
      "outputs": [],
      "source": [
        "import numpy as np"
      ]
    },
    {
      "cell_type": "code",
      "source": [
        "phi = np.array([  [np.exp(-0.25), np.exp(-2.25)],\n",
        "    [np.exp(-0.25), np.exp(-0.25)],\n",
        "    [np.exp(-2.25), np.exp(-0.25)]])"
      ],
      "metadata": {
        "id": "u3WsJarz7DMW"
      },
      "execution_count": null,
      "outputs": []
    }
  ]
}